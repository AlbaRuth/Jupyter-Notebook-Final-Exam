{
 "cells": [
  {
   "cell_type": "markdown",
   "id": "f23110a6-44dc-4392-a51b-224bc4640629",
   "metadata": {
    "tags": []
   },
   "source": [
    "# My Jupyter Notebook on IBM Watson Studio"
   ]
  },
  {
   "cell_type": "markdown",
   "id": "fbf4d7a4-b76d-4b7d-b4aa-a8ec17481edf",
   "metadata": {
    "tags": []
   },
   "source": [
    "**Artem Sakovich** \n",
    "\n",
    "Data Scientist/ML Engineer"
   ]
  },
  {
   "cell_type": "markdown",
   "id": "78c179bc-bd5c-4143-ab5a-3eb83b848aec",
   "metadata": {},
   "source": [
    "_I am interested in data science because because it combibes everything that I like: maths, programming and high salary._"
   ]
  },
  {
   "cell_type": "markdown",
   "id": "6c8b45ad-e248-4387-9c1f-29f02914f292",
   "metadata": {
    "tags": []
   },
   "source": [
    "### The following code calculates square root of a number"
   ]
  },
  {
   "cell_type": "code",
   "execution_count": 6,
   "id": "aeb24b08-de87-40a1-ac0e-c71de1480e16",
   "metadata": {
    "tags": []
   },
   "outputs": [
    {
     "data": {
      "text/plain": [
       "9.16515138991168"
      ]
     },
     "execution_count": 6,
     "metadata": {},
     "output_type": "execute_result"
    }
   ],
   "source": [
    "import math\n",
    "math.sqrt(84)"
   ]
  },
  {
   "cell_type": "markdown",
   "id": "34636b13-c1b6-47df-8620-e3c5891381b3",
   "metadata": {},
   "source": [
    "![kitty](https://get.wallhere.com/photo/1920x1200-px-animals-background-cats-kittens-Pets-white-1640277.jpg)\n",
    "\n",
    "\n",
    "\n",
    "\n",
    "\n",
    "\n",
    "\n",
    "\n",
    "<left><a href=\"https://www.coursera.org/\">https://www.coursera.org/</a>\n",
    "    \n",
    "    \n",
    "    \n",
    "| | **Bookname**  | **Author**    | **Release Date**   |\n",
    "|---:|:-------------|:-----------|:------:|\n",
    "| 1 | Pale Fire  | Vladimir Nabokov       | 1962   | \n",
    "| 2 | We   |  Yevgeny Zamyatin    | 1920   | \n",
    " >"
   ]
  },
  {
   "cell_type": "code",
   "execution_count": 9,
   "id": "7a75a814-17a7-4455-a5fe-73c067ee8436",
   "metadata": {
    "tags": []
   },
   "outputs": [
    {
     "data": {
      "text/html": [
       "<style>\n",
       "table {float:left}\n",
       "</style>\n"
      ],
      "text/plain": [
       "<IPython.core.display.HTML object>"
      ]
     },
     "metadata": {},
     "output_type": "display_data"
    }
   ],
   "source": [
    "%%html\n",
    "<style>\n",
    "table {float:left}\n",
    "</style>"
   ]
  }
 ],
 "metadata": {
  "kernelspec": {
   "display_name": "Python 3 (ipykernel)",
   "language": "python",
   "name": "python3"
  },
  "language_info": {
   "codemirror_mode": {
    "name": "ipython",
    "version": 3
   },
   "file_extension": ".py",
   "mimetype": "text/x-python",
   "name": "python",
   "nbconvert_exporter": "python",
   "pygments_lexer": "ipython3",
   "version": "3.11.2"
  }
 },
 "nbformat": 4,
 "nbformat_minor": 5
}
